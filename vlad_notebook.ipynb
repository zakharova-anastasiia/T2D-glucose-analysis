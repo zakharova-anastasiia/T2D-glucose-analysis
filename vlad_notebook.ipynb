{
 "cells": [
  {
   "cell_type": "code",
   "execution_count": 2,
   "metadata": {},
   "outputs": [],
   "source": [
    "import pandas as pd\n",
    "import numpy as np"
   ]
  },
  {
   "cell_type": "code",
   "execution_count": 5,
   "metadata": {},
   "outputs": [],
   "source": [
    "df = pd.read_csv('V3_redundant_columns_removed.csv')"
   ]
  },
  {
   "cell_type": "code",
   "execution_count": 6,
   "metadata": {},
   "outputs": [
    {
     "data": {
      "text/plain": [
       "(1550560, 90)"
      ]
     },
     "execution_count": 6,
     "metadata": {},
     "output_type": "execute_result"
    }
   ],
   "source": [
    "df.shape"
   ]
  },
  {
   "cell_type": "code",
   "execution_count": 4,
   "metadata": {},
   "outputs": [],
   "source": [
    "df_1 =  pd.DataFrame({col: df[col].apply(pd.Series).stack().reset_index(drop=True) for col in df.columns})"
   ]
  },
  {
   "cell_type": "code",
   "execution_count": 5,
   "metadata": {},
   "outputs": [],
   "source": [
    "df_1 = df_1.drop(['E0061epizod', 'B0050.1', 'Birthday', 'EventCode'], axis=1)"
   ]
  },
  {
   "cell_type": "code",
   "execution_count": 54,
   "metadata": {},
   "outputs": [
    {
     "name": "stdout",
     "output_type": "stream",
     "text": [
      "EventCode :  1550560 , %  100.0\n",
      "Date :  1550560 , %  100.0\n",
      "Birthday :  1550560 , %  100.0\n",
      "Sex :  1210486 , %  78.0677\n",
      "Smoke_status :  989721 , %  63.8299\n",
      "WBC-Leukocytes :  52178 , %  3.3651\n",
      "HGB-Hemoglobin :  52178 , %  3.3651\n",
      "HCT- Hematocrit :  52177 , %  3.365\n",
      "K + (vein) :  35043 , %  2.26\n",
      "Glu (vein) :  34509 , %  2.2256\n",
      "Na + (vein) :  32488 , %  2.0952\n",
      "pH (vein) :  31317 , %  2.0197\n",
      "sO2 (vein) :  31317 , %  2.0197\n",
      "pCO2 (vein) :  31315 , %  2.0196\n",
      "ctHb (vein) :  31299 , %  2.0186\n",
      "pO2 (vein) :  31295 , %  2.0183\n",
      "HCO3- (P) (vein) :  31281 , %  2.0174\n",
      "Ca2 + ( vein) :  31271 , %  2.0168\n",
      "Hct (vein) :  31267 , %  2.0165\n",
      "Cl- (vein) :  31215 , %  2.0131\n",
      "Osmolarity (vein) :  31135 , %  2.008\n",
      "Lac (vein) :  30335 , %  1.9564\n",
      "ctO2 (vein) :  28863 , %  1.8615\n",
      "p50 (vein) :  23789 , %  1.5342\n",
      "Prothrombin (according to Quick) :  16407 , %  1.0581\n",
      "Prothrombin time :  16396 , %  1.0574\n",
      "ABE (vein) :  15712 , %  1.0133\n",
      "Glucose (syv.) :  15322 , %  0.9882\n",
      "CAD :  14553 , %  0.9386\n",
      "DAD :  14448 , %  0.9318\n",
      "pulse :  13211 , %  0.852\n",
      "CHD1 :  11886 , %  0.7666\n",
      "AG :  11685 , %  0.7536\n",
      "CHF :  11207 , %  0.7228\n",
      "C-reactive protein (CRP) amount. :  10781 , %  0.6953\n",
      "atherosclerosis :  10028 , %  0.6467\n",
      "Angina :  7807 , %  0.5035\n",
      "C-reactive protein (CRP) :  7422 , %  0.4787\n",
      "FMetHb (vein) :  7160 , %  0.4618\n",
      "ctBil (vein) :  6754 , %  0.4356\n",
      "HCO3- (P, st) (vein) :  5990 , %  0.3863\n",
      "FHHb (vein) :  5990 , %  0.3863\n",
      "F02Hb (vein) :  5990 , %  0.3863\n",
      "FCOHb (vein) :  5948 , %  0.3836\n",
      "Obesity :  5461 , %  0.3522\n",
      "neuropathy1 :  5347 , %  0.3448\n",
      "Glucose :  5084 , %  0.3279\n",
      "Uric acid :  3824 , %  0.2466\n",
      "Coef. atherogenicity :  3260 , %  0.2102\n",
      "SBE (vein) :  2966 , %  0.1913\n",
      "HbA1c :  2915 , %  0.188\n",
      "CKD :  2540 , %  0.1638\n",
      "AF :  2412 , %  0.1556\n",
      "weight :  2370 , %  0.1528\n",
      "Disorders_ of_lipoprotein_ metabolism :  2260 , %  0.1458\n",
      "diabetic_nephropathy1 :  2047 , %  0.132\n",
      "COPD :  1916 , %  0.1236\n",
      "IM1 :  1859 , %  0.1199\n",
      "stroke1 :  1769 , %  0.1141\n",
      "Troponin I :  1588 , %  0.1024\n",
      "Insulin_any :  1554 , %  0.1002\n",
      "Acute_pulmonary_complications :  1460 , %  0.0942\n",
      "Anemia :  1351 , %  0.0871\n",
      "Monocytes, eosinophils, basophils% :  1064 , %  0.0686\n",
      "Monocytes, eosinophils, basophils # :  1054 , %  0.068\n",
      "diabetic_angiopathy_neph :  1025 , %  0.0661\n",
      "Microalbumin urine :  908 , %  0.0586\n",
      "Insulin :  770 , %  0.0497\n",
      "Metanephrines urine :  700 , %  0.0451\n",
      "Microalbin (day urine) :  600 , %  0.0387\n",
      "Hyperglycemia :  594 , %  0.0383\n",
      "Capillary blood glucose :  560 , %  0.0361\n",
      "Biomaterial :  428 , %  0.0276\n",
      "diuretic :  377 , %  0.0243\n",
      "Albumin (electrophoresis) :  359 , %  0.0232\n",
      "Glucose (16 hours) :  346 , %  0.0223\n",
      "Glucose (12 hours) :  344 , %  0.0222\n",
      "FHbF (vein) :  332 , %  0.0214\n",
      "all_gipoglemic_drugs :  297 , %  0.0192\n",
      "beta_block :  280 , %  0.0181\n",
      "Insulinum_glarginum :  220 , %  0.0142\n",
      "Protein (urine) amount. :  201 , %  0.013\n",
      "Long-acting_insulins :  185 , %  0.0119\n",
      "Disorders _sleep :  180 , %  0.0116\n",
      "furosemide :  177 , %  0.0114\n",
      "metformin :  142 , %  0.0092\n",
      "bisoprolol :  129 , %  0.0083\n",
      "Metformin :  121 , %  0.0078\n",
      "metoprolol :  112 , %  0.0072\n",
      "diabetic_retinopathy1 :  110 , %  0.0071\n",
      "OKS :  103 , %  0.0066\n",
      "spironolactone :  95 , %  0.0061\n",
      "vildagliptin :  85 , %  0.0055\n",
      "Insulinum_lisulinum_engineering_ :  73 , %  0.0047\n",
      "Insulinum_lisprum :  67 , %  0.0043\n",
      "urea :  63 , %  0.0041\n",
      "glimepiride :  59 , %  0.0038\n",
      "all_statins :  57 , %  0.0037\n",
      "atorvastatin :  49 , %  0.0032\n",
      "Insulinum_lisulinum_engineering :  48 , %  0.0031\n",
      "torasemide :  46 , %  0.003\n",
      "Ultrashort-acting_insulins :  44 , %  0.0028\n",
      "nebivolol :  35 , %  0.0023\n",
      "sotalol :  25 , %  0.0016\n",
      "gliclazide :  21 , %  0.0014\n",
      "height :  20 , %  0.0013\n",
      "bmi :  13 , %  0.0008\n",
      "Nitrites :  12 , %  0.0008\n",
      "Insulinum aspartum :  12 , %  0.0008\n",
      "hydrochlorothiazide :  9 , %  0.0006\n",
      "Harmful_life-image :  7 , %  0.0005\n",
      "simvastatin :  7 , %  0.0005\n",
      "indapamide :  7 , %  0.0005\n",
      "body_surface_area :  5 , %  0.0003\n",
      "rosuvastatin :  2 , %  0.0001\n"
     ]
    }
   ],
   "source": [
    "the_most_interesting_element_count = 1000\n",
    "second_priority_element_count = 50\n",
    "features_with_counts = {}\n",
    "for col in df_1.columns:\n",
    "    features_with_counts[col] = np.count_nonzero(df_1[col] != 0)\n",
    "sorted_features = {k: v for k, v in sorted(features_with_counts.items(), key=lambda item: item[1], reverse=True)}\n",
    "for key in sorted_features:\n",
    "    print(key, ': ', sorted_features[key], ', % ', round(sorted_features[key] / df_1.shape[0] * 100, 4))\n"
   ]
  },
  {
   "cell_type": "code",
   "execution_count": 6,
   "metadata": {},
   "outputs": [
    {
     "ename": "KeyError",
     "evalue": "'Glu'",
     "output_type": "error",
     "traceback": [
      "\u001b[0;31m---------------------------------------------------------------------------\u001b[0m",
      "\u001b[0;31mKeyError\u001b[0m                                  Traceback (most recent call last)",
      "\u001b[0;32m/opt/conda/lib/python3.7/site-packages/pandas/core/indexes/base.py\u001b[0m in \u001b[0;36mget_loc\u001b[0;34m(self, key, method, tolerance)\u001b[0m\n\u001b[1;32m   2888\u001b[0m             \u001b[0;32mtry\u001b[0m\u001b[0;34m:\u001b[0m\u001b[0;34m\u001b[0m\u001b[0;34m\u001b[0m\u001b[0m\n\u001b[0;32m-> 2889\u001b[0;31m                 \u001b[0;32mreturn\u001b[0m \u001b[0mself\u001b[0m\u001b[0;34m.\u001b[0m\u001b[0m_engine\u001b[0m\u001b[0;34m.\u001b[0m\u001b[0mget_loc\u001b[0m\u001b[0;34m(\u001b[0m\u001b[0mcasted_key\u001b[0m\u001b[0;34m)\u001b[0m\u001b[0;34m\u001b[0m\u001b[0;34m\u001b[0m\u001b[0m\n\u001b[0m\u001b[1;32m   2890\u001b[0m             \u001b[0;32mexcept\u001b[0m \u001b[0mKeyError\u001b[0m \u001b[0;32mas\u001b[0m \u001b[0merr\u001b[0m\u001b[0;34m:\u001b[0m\u001b[0;34m\u001b[0m\u001b[0;34m\u001b[0m\u001b[0m\n",
      "\u001b[0;32mpandas/_libs/index.pyx\u001b[0m in \u001b[0;36mpandas._libs.index.IndexEngine.get_loc\u001b[0;34m()\u001b[0m\n",
      "\u001b[0;32mpandas/_libs/index.pyx\u001b[0m in \u001b[0;36mpandas._libs.index.IndexEngine.get_loc\u001b[0;34m()\u001b[0m\n",
      "\u001b[0;32mpandas/_libs/hashtable_class_helper.pxi\u001b[0m in \u001b[0;36mpandas._libs.hashtable.PyObjectHashTable.get_item\u001b[0;34m()\u001b[0m\n",
      "\u001b[0;32mpandas/_libs/hashtable_class_helper.pxi\u001b[0m in \u001b[0;36mpandas._libs.hashtable.PyObjectHashTable.get_item\u001b[0;34m()\u001b[0m\n",
      "\u001b[0;31mKeyError\u001b[0m: 'Glu'",
      "\nThe above exception was the direct cause of the following exception:\n",
      "\u001b[0;31mKeyError\u001b[0m                                  Traceback (most recent call last)",
      "\u001b[0;32m<ipython-input-6-e3492bb6422c>\u001b[0m in \u001b[0;36m<module>\u001b[0;34m\u001b[0m\n\u001b[0;32m----> 1\u001b[0;31m \u001b[0mdf_1\u001b[0m\u001b[0;34m[\u001b[0m\u001b[0;34m'Glu'\u001b[0m\u001b[0;34m]\u001b[0m\u001b[0;34m.\u001b[0m\u001b[0mvalue_counts\u001b[0m\u001b[0;34m(\u001b[0m\u001b[0;34m)\u001b[0m\u001b[0;34m\u001b[0m\u001b[0;34m\u001b[0m\u001b[0m\n\u001b[0m",
      "\u001b[0;32m/opt/conda/lib/python3.7/site-packages/pandas/core/frame.py\u001b[0m in \u001b[0;36m__getitem__\u001b[0;34m(self, key)\u001b[0m\n\u001b[1;32m   2900\u001b[0m             \u001b[0;32mif\u001b[0m \u001b[0mself\u001b[0m\u001b[0;34m.\u001b[0m\u001b[0mcolumns\u001b[0m\u001b[0;34m.\u001b[0m\u001b[0mnlevels\u001b[0m \u001b[0;34m>\u001b[0m \u001b[0;36m1\u001b[0m\u001b[0;34m:\u001b[0m\u001b[0;34m\u001b[0m\u001b[0;34m\u001b[0m\u001b[0m\n\u001b[1;32m   2901\u001b[0m                 \u001b[0;32mreturn\u001b[0m \u001b[0mself\u001b[0m\u001b[0;34m.\u001b[0m\u001b[0m_getitem_multilevel\u001b[0m\u001b[0;34m(\u001b[0m\u001b[0mkey\u001b[0m\u001b[0;34m)\u001b[0m\u001b[0;34m\u001b[0m\u001b[0;34m\u001b[0m\u001b[0m\n\u001b[0;32m-> 2902\u001b[0;31m             \u001b[0mindexer\u001b[0m \u001b[0;34m=\u001b[0m \u001b[0mself\u001b[0m\u001b[0;34m.\u001b[0m\u001b[0mcolumns\u001b[0m\u001b[0;34m.\u001b[0m\u001b[0mget_loc\u001b[0m\u001b[0;34m(\u001b[0m\u001b[0mkey\u001b[0m\u001b[0;34m)\u001b[0m\u001b[0;34m\u001b[0m\u001b[0;34m\u001b[0m\u001b[0m\n\u001b[0m\u001b[1;32m   2903\u001b[0m             \u001b[0;32mif\u001b[0m \u001b[0mis_integer\u001b[0m\u001b[0;34m(\u001b[0m\u001b[0mindexer\u001b[0m\u001b[0;34m)\u001b[0m\u001b[0;34m:\u001b[0m\u001b[0;34m\u001b[0m\u001b[0;34m\u001b[0m\u001b[0m\n\u001b[1;32m   2904\u001b[0m                 \u001b[0mindexer\u001b[0m \u001b[0;34m=\u001b[0m \u001b[0;34m[\u001b[0m\u001b[0mindexer\u001b[0m\u001b[0;34m]\u001b[0m\u001b[0;34m\u001b[0m\u001b[0;34m\u001b[0m\u001b[0m\n",
      "\u001b[0;32m/opt/conda/lib/python3.7/site-packages/pandas/core/indexes/base.py\u001b[0m in \u001b[0;36mget_loc\u001b[0;34m(self, key, method, tolerance)\u001b[0m\n\u001b[1;32m   2889\u001b[0m                 \u001b[0;32mreturn\u001b[0m \u001b[0mself\u001b[0m\u001b[0;34m.\u001b[0m\u001b[0m_engine\u001b[0m\u001b[0;34m.\u001b[0m\u001b[0mget_loc\u001b[0m\u001b[0;34m(\u001b[0m\u001b[0mcasted_key\u001b[0m\u001b[0;34m)\u001b[0m\u001b[0;34m\u001b[0m\u001b[0;34m\u001b[0m\u001b[0m\n\u001b[1;32m   2890\u001b[0m             \u001b[0;32mexcept\u001b[0m \u001b[0mKeyError\u001b[0m \u001b[0;32mas\u001b[0m \u001b[0merr\u001b[0m\u001b[0;34m:\u001b[0m\u001b[0;34m\u001b[0m\u001b[0;34m\u001b[0m\u001b[0m\n\u001b[0;32m-> 2891\u001b[0;31m                 \u001b[0;32mraise\u001b[0m \u001b[0mKeyError\u001b[0m\u001b[0;34m(\u001b[0m\u001b[0mkey\u001b[0m\u001b[0;34m)\u001b[0m \u001b[0;32mfrom\u001b[0m \u001b[0merr\u001b[0m\u001b[0;34m\u001b[0m\u001b[0;34m\u001b[0m\u001b[0m\n\u001b[0m\u001b[1;32m   2892\u001b[0m \u001b[0;34m\u001b[0m\u001b[0m\n\u001b[1;32m   2893\u001b[0m         \u001b[0;32mif\u001b[0m \u001b[0mtolerance\u001b[0m \u001b[0;32mis\u001b[0m \u001b[0;32mnot\u001b[0m \u001b[0;32mNone\u001b[0m\u001b[0;34m:\u001b[0m\u001b[0;34m\u001b[0m\u001b[0;34m\u001b[0m\u001b[0m\n",
      "\u001b[0;31mKeyError\u001b[0m: 'Glu'"
     ]
    }
   ],
   "source": [
    "df_1['Glu (vein)'].value_counts()"
   ]
  }
 ],
 "metadata": {
  "kernelspec": {
   "display_name": "vladenv",
   "language": "python",
   "name": "vladenv"
  },
  "language_info": {
   "codemirror_mode": {
    "name": "ipython",
    "version": 3
   },
   "file_extension": ".py",
   "mimetype": "text/x-python",
   "name": "python",
   "nbconvert_exporter": "python",
   "pygments_lexer": "ipython3",
   "version": "3.7.4"
  }
 },
 "nbformat": 4,
 "nbformat_minor": 4
}
