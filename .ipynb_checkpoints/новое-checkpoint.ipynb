{
 "cells": [
  {
   "cell_type": "code",
   "execution_count": 144,
   "metadata": {},
   "outputs": [],
   "source": [
    "import pandas as pd\n",
    "import numpy as np\n",
    "import matplotlib.pyplot as plt\n",
    "%matplotlib inline\n",
    "import warnings\n",
    "warnings.filterwarnings(\"ignore\")\n",
    "import seaborn as sns"
   ]
  },
  {
   "cell_type": "code",
   "execution_count": 25,
   "metadata": {},
   "outputs": [],
   "source": [
    "data = pd.read_csv('V3_redundant_columns_removed.csv')"
   ]
  },
  {
   "cell_type": "code",
   "execution_count": 21,
   "metadata": {},
   "outputs": [],
   "source": [
    "data5 = pd.read_csv('V5_final_dataset.csv', index_col=0)"
   ]
  },
  {
   "cell_type": "code",
   "execution_count": 44,
   "metadata": {},
   "outputs": [
    {
     "data": {
      "text/html": [
       "<div>\n",
       "<style scoped>\n",
       "    .dataframe tbody tr th:only-of-type {\n",
       "        vertical-align: middle;\n",
       "    }\n",
       "\n",
       "    .dataframe tbody tr th {\n",
       "        vertical-align: top;\n",
       "    }\n",
       "\n",
       "    .dataframe thead th {\n",
       "        text-align: right;\n",
       "    }\n",
       "</style>\n",
       "<table border=\"1\" class=\"dataframe\">\n",
       "  <thead>\n",
       "    <tr style=\"text-align: right;\">\n",
       "      <th></th>\n",
       "      <th>Sex</th>\n",
       "      <th>Smoke_status</th>\n",
       "      <th>SBE (vein)</th>\n",
       "      <th>HCO3- (P, st) (vein)</th>\n",
       "      <th>FCOHb (vein)</th>\n",
       "      <th>FHHb (vein)</th>\n",
       "      <th>FMetHb (vein)</th>\n",
       "      <th>FHbF (vein)</th>\n",
       "      <th>F02Hb (vein)</th>\n",
       "      <th>ctBil (vein)</th>\n",
       "      <th>...</th>\n",
       "      <th>Na + (vein)</th>\n",
       "      <th>Ca2 + ( vein)</th>\n",
       "      <th>Cl- (vein)</th>\n",
       "      <th>Glu (vein)</th>\n",
       "      <th>Lac (vein)</th>\n",
       "      <th>Osmolarity (vein)</th>\n",
       "      <th>ctO2 (vein)</th>\n",
       "      <th>p50 (vein)</th>\n",
       "      <th>Age</th>\n",
       "      <th>Patient_ID</th>\n",
       "    </tr>\n",
       "  </thead>\n",
       "  <tbody>\n",
       "    <tr>\n",
       "      <th>0</th>\n",
       "      <td>0.0</td>\n",
       "      <td>1.0</td>\n",
       "      <td>0.0</td>\n",
       "      <td>0.0</td>\n",
       "      <td>0.0</td>\n",
       "      <td>0.0</td>\n",
       "      <td>0.0</td>\n",
       "      <td>0.0</td>\n",
       "      <td>0.0</td>\n",
       "      <td>0.0</td>\n",
       "      <td>...</td>\n",
       "      <td>0.0</td>\n",
       "      <td>0.0</td>\n",
       "      <td>0.0</td>\n",
       "      <td>0.0</td>\n",
       "      <td>0.0</td>\n",
       "      <td>0.0</td>\n",
       "      <td>0.0</td>\n",
       "      <td>0.0</td>\n",
       "      <td>66</td>\n",
       "      <td>GACAACU</td>\n",
       "    </tr>\n",
       "    <tr>\n",
       "      <th>1</th>\n",
       "      <td>0.0</td>\n",
       "      <td>1.0</td>\n",
       "      <td>0.0</td>\n",
       "      <td>0.0</td>\n",
       "      <td>0.0</td>\n",
       "      <td>0.0</td>\n",
       "      <td>0.0</td>\n",
       "      <td>0.0</td>\n",
       "      <td>0.0</td>\n",
       "      <td>0.0</td>\n",
       "      <td>...</td>\n",
       "      <td>0.0</td>\n",
       "      <td>0.0</td>\n",
       "      <td>0.0</td>\n",
       "      <td>0.0</td>\n",
       "      <td>0.0</td>\n",
       "      <td>0.0</td>\n",
       "      <td>0.0</td>\n",
       "      <td>0.0</td>\n",
       "      <td>66</td>\n",
       "      <td>GACAACU</td>\n",
       "    </tr>\n",
       "    <tr>\n",
       "      <th>2</th>\n",
       "      <td>0.0</td>\n",
       "      <td>1.0</td>\n",
       "      <td>0.0</td>\n",
       "      <td>0.0</td>\n",
       "      <td>0.0</td>\n",
       "      <td>0.0</td>\n",
       "      <td>0.0</td>\n",
       "      <td>0.0</td>\n",
       "      <td>0.0</td>\n",
       "      <td>0.0</td>\n",
       "      <td>...</td>\n",
       "      <td>0.0</td>\n",
       "      <td>0.0</td>\n",
       "      <td>0.0</td>\n",
       "      <td>0.0</td>\n",
       "      <td>0.0</td>\n",
       "      <td>0.0</td>\n",
       "      <td>0.0</td>\n",
       "      <td>0.0</td>\n",
       "      <td>66</td>\n",
       "      <td>GACAACU</td>\n",
       "    </tr>\n",
       "    <tr>\n",
       "      <th>3</th>\n",
       "      <td>0.0</td>\n",
       "      <td>1.0</td>\n",
       "      <td>0.0</td>\n",
       "      <td>0.0</td>\n",
       "      <td>0.0</td>\n",
       "      <td>0.0</td>\n",
       "      <td>0.0</td>\n",
       "      <td>0.0</td>\n",
       "      <td>0.0</td>\n",
       "      <td>0.0</td>\n",
       "      <td>...</td>\n",
       "      <td>0.0</td>\n",
       "      <td>0.0</td>\n",
       "      <td>0.0</td>\n",
       "      <td>0.0</td>\n",
       "      <td>0.0</td>\n",
       "      <td>0.0</td>\n",
       "      <td>0.0</td>\n",
       "      <td>0.0</td>\n",
       "      <td>66</td>\n",
       "      <td>GACAACU</td>\n",
       "    </tr>\n",
       "    <tr>\n",
       "      <th>4</th>\n",
       "      <td>0.0</td>\n",
       "      <td>1.0</td>\n",
       "      <td>0.0</td>\n",
       "      <td>0.0</td>\n",
       "      <td>0.0</td>\n",
       "      <td>0.0</td>\n",
       "      <td>0.0</td>\n",
       "      <td>0.0</td>\n",
       "      <td>0.0</td>\n",
       "      <td>0.0</td>\n",
       "      <td>...</td>\n",
       "      <td>0.0</td>\n",
       "      <td>0.0</td>\n",
       "      <td>0.0</td>\n",
       "      <td>0.0</td>\n",
       "      <td>0.0</td>\n",
       "      <td>0.0</td>\n",
       "      <td>0.0</td>\n",
       "      <td>0.0</td>\n",
       "      <td>66</td>\n",
       "      <td>GACAACU</td>\n",
       "    </tr>\n",
       "  </tbody>\n",
       "</table>\n",
       "<p>5 rows × 29 columns</p>\n",
       "</div>"
      ],
      "text/plain": [
       "   Sex  Smoke_status  SBE (vein)  HCO3- (P, st) (vein)  FCOHb (vein)  \\\n",
       "0  0.0           1.0         0.0                   0.0           0.0   \n",
       "1  0.0           1.0         0.0                   0.0           0.0   \n",
       "2  0.0           1.0         0.0                   0.0           0.0   \n",
       "3  0.0           1.0         0.0                   0.0           0.0   \n",
       "4  0.0           1.0         0.0                   0.0           0.0   \n",
       "\n",
       "   FHHb (vein)  FMetHb (vein)  FHbF (vein)  F02Hb (vein)  ctBil (vein)  ...  \\\n",
       "0          0.0            0.0          0.0           0.0           0.0  ...   \n",
       "1          0.0            0.0          0.0           0.0           0.0  ...   \n",
       "2          0.0            0.0          0.0           0.0           0.0  ...   \n",
       "3          0.0            0.0          0.0           0.0           0.0  ...   \n",
       "4          0.0            0.0          0.0           0.0           0.0  ...   \n",
       "\n",
       "   Na + (vein)  Ca2 + ( vein)  Cl- (vein)  Glu (vein)  Lac (vein)  \\\n",
       "0          0.0            0.0         0.0         0.0         0.0   \n",
       "1          0.0            0.0         0.0         0.0         0.0   \n",
       "2          0.0            0.0         0.0         0.0         0.0   \n",
       "3          0.0            0.0         0.0         0.0         0.0   \n",
       "4          0.0            0.0         0.0         0.0         0.0   \n",
       "\n",
       "   Osmolarity (vein)  ctO2 (vein)  p50 (vein)  Age  Patient_ID  \n",
       "0                0.0          0.0         0.0   66     GACAACU  \n",
       "1                0.0          0.0         0.0   66     GACAACU  \n",
       "2                0.0          0.0         0.0   66     GACAACU  \n",
       "3                0.0          0.0         0.0   66     GACAACU  \n",
       "4                0.0          0.0         0.0   66     GACAACU  \n",
       "\n",
       "[5 rows x 29 columns]"
      ]
     },
     "execution_count": 44,
     "metadata": {},
     "output_type": "execute_result"
    }
   ],
   "source": [
    "data_n = data[data5.columns.tolist()+['Patient_ID']]\n",
    "data_n.head()"
   ]
  },
  {
   "cell_type": "code",
   "execution_count": 47,
   "metadata": {},
   "outputs": [],
   "source": [
    "data_red = data_n[['Osmolarity (vein)', 'Na + (vein)', 'ctO2 (vein)', 'pH (vein)', \n",
    "             'Lac (vein)', 'Cl- (vein)', 'ctHb (vein)', 'Patient_ID', 'Glu (vein)']]"
   ]
  },
  {
   "cell_type": "code",
   "execution_count": 49,
   "metadata": {
    "scrolled": true
   },
   "outputs": [
    {
     "data": {
      "text/plain": [
       "Index(['Osmolarity (vein)', 'Na + (vein)', 'ctO2 (vein)', 'pH (vein)',\n",
       "       'Lac (vein)', 'Cl- (vein)', 'ctHb (vein)', 'Patient_ID', 'Glu (vein)'],\n",
       "      dtype='object')"
      ]
     },
     "execution_count": 49,
     "metadata": {},
     "output_type": "execute_result"
    }
   ],
   "source": [
    "data_red.columns"
   ]
  },
  {
   "cell_type": "code",
   "execution_count": 156,
   "metadata": {},
   "outputs": [],
   "source": [
    "data_o = data_red.drop_duplicates(subset=['Osmolarity (vein)', 'Na + (vein)', 'ctO2 (vein)', 'pH (vein)',\n",
    "       'Lac (vein)', 'Cl- (vein)', 'ctHb (vein)', 'Glu (vein)'])\n",
    "data_o = data_o[data_o['Osmolarity (vein)'] != 0]\n",
    "data_o = data_o[(data_o['Glu (vein)'] != 0) | (data_o['Na + (vein)'] != 0) |\n",
    "      (data_o['ctO2 (vein)'] != 0) | (data_o['pH (vein)'] != 0) |\n",
    "      (data_o['Lac (vein)'] != 0) | (data_o['Cl- (vein)'] != 0) | \n",
    "      (data_o['ctHb (vein)'] != 0)]"
   ]
  },
  {
   "cell_type": "code",
   "execution_count": 159,
   "metadata": {},
   "outputs": [],
   "source": [
    "data_o['Osmolarity (vein)'] = data_o['Osmolarity (vein)'].astype(str).str.replace('.',\n",
    "                                                                        '').str.slice(stop=4).astype(float) / 10\n",
    "data_o['Na + (vein)'] = data_o['Na + (vein)'].astype(str).str.replace('.',\n",
    "                                                                        '').str.slice(stop=4).astype(float) / 10\n",
    "\n",
    "data_o['Cl- (vein) test'] = data_o['Cl- (vein)'].astype(str).str.replace('.',\n",
    "                                                                        '').str.slice(stop=4).astype(float) / 10\n",
    "data_o['Cl- (vein)'] = data_o['Cl- (vein) test'].apply(lambda x: x/10 if x > 300 else x)\n",
    "data_o = data_o.drop(columns=['Cl- (vein) test'])\n",
    "\n",
    "data_o['ctHb (vein) test'] = data_o['ctHb (vein)'].astype(str).str.replace('.',\n",
    "                                                                        '').str.slice(stop=4).astype(float) / 10\n",
    "data_o['ctHb (vein)'] = data_o['ctHb (vein) test'].apply(lambda x: x/10 if x > 300 else x)\n",
    "data_o = data_o.drop(columns=['ctHb (vein) test'])"
   ]
  },
  {
   "cell_type": "code",
   "execution_count": 163,
   "metadata": {},
   "outputs": [],
   "source": [
    "data_o.to_csv('Osmolarity.csv')"
   ]
  },
  {
   "cell_type": "code",
   "execution_count": 103,
   "metadata": {},
   "outputs": [],
   "source": [
    "data_r = data_red.drop_duplicates(subset=['Osmolarity (vein)', 'Na + (vein)', 'ctO2 (vein)', 'pH (vein)',\n",
    "       'Lac (vein)', 'Cl- (vein)', 'ctHb (vein)', 'Glu (vein)'])"
   ]
  },
  {
   "cell_type": "code",
   "execution_count": 104,
   "metadata": {},
   "outputs": [],
   "source": [
    "data_r = data_r[data_r['Glu (vein)'] != 0]"
   ]
  },
  {
   "cell_type": "code",
   "execution_count": 106,
   "metadata": {},
   "outputs": [],
   "source": [
    "data_r = data_r[(data_r['Osmolarity (vein)'] != 0) | (data_r['Na + (vein)'] != 0) |\n",
    "      (data_r['ctO2 (vein)'] != 0) | (data_r['pH (vein)'] != 0) |\n",
    "      (data_r['Lac (vein)'] != 0) | (data_r['Cl- (vein)'] != 0) | \n",
    "      (data_r['ctHb (vein)'] != 0)]"
   ]
  },
  {
   "cell_type": "code",
   "execution_count": 108,
   "metadata": {},
   "outputs": [],
   "source": [
    "data_r['Osmolarity (vein)'] = data_r['Osmolarity (vein)'].astype(str).str.replace('.',\n",
    "                                                                        '').str.slice(stop=4).astype(float) / 10"
   ]
  },
  {
   "cell_type": "code",
   "execution_count": 112,
   "metadata": {},
   "outputs": [],
   "source": [
    "data_r['Na + (vein)'] = data_r['Na + (vein)'].astype(str).str.replace('.',\n",
    "                                                                        '').str.slice(stop=4).astype(float) / 10"
   ]
  },
  {
   "cell_type": "code",
   "execution_count": 122,
   "metadata": {},
   "outputs": [],
   "source": [
    "data_r['Cl- (vein) test'] = data_r['Cl- (vein)'].astype(str).str.replace('.',\n",
    "                                                                        '').str.slice(stop=4).astype(float) / 10\n",
    "data_r['Cl- (vein)'] = data_r['Cl- (vein) test'].apply(lambda x: x/10 if x > 300 else x)\n",
    "data_r = data_r.drop(columns=['Cl- (vein) test'])"
   ]
  },
  {
   "cell_type": "code",
   "execution_count": 138,
   "metadata": {},
   "outputs": [],
   "source": [
    "data_r['ctHb (vein) test'] = data_r['ctHb (vein)'].astype(str).str.replace('.',\n",
    "                                                                        '').str.slice(stop=4).astype(float) / 10\n",
    "data_r['ctHb (vein)'] = data_r['ctHb (vein) test'].apply(lambda x: x/10 if x > 300 else x)\n",
    "data_r = data_r.drop(columns=['ctHb (vein) test'])"
   ]
  },
  {
   "cell_type": "code",
   "execution_count": 142,
   "metadata": {},
   "outputs": [],
   "source": [
    "data_r.to_csv('новый.csv')"
   ]
  },
  {
   "cell_type": "code",
   "execution_count": 143,
   "metadata": {},
   "outputs": [
    {
     "data": {
      "text/html": [
       "<div>\n",
       "<style scoped>\n",
       "    .dataframe tbody tr th:only-of-type {\n",
       "        vertical-align: middle;\n",
       "    }\n",
       "\n",
       "    .dataframe tbody tr th {\n",
       "        vertical-align: top;\n",
       "    }\n",
       "\n",
       "    .dataframe thead th {\n",
       "        text-align: right;\n",
       "    }\n",
       "</style>\n",
       "<table border=\"1\" class=\"dataframe\">\n",
       "  <thead>\n",
       "    <tr style=\"text-align: right;\">\n",
       "      <th></th>\n",
       "      <th>Osmolarity (vein)</th>\n",
       "      <th>Na + (vein)</th>\n",
       "      <th>ctO2 (vein)</th>\n",
       "      <th>pH (vein)</th>\n",
       "      <th>Lac (vein)</th>\n",
       "      <th>Cl- (vein)</th>\n",
       "      <th>ctHb (vein)</th>\n",
       "      <th>Patient_ID</th>\n",
       "      <th>Glu (vein)</th>\n",
       "    </tr>\n",
       "  </thead>\n",
       "  <tbody>\n",
       "    <tr>\n",
       "      <th>1950</th>\n",
       "      <td>270.0</td>\n",
       "      <td>133.0</td>\n",
       "      <td>5.6</td>\n",
       "      <td>7.28</td>\n",
       "      <td>2.0</td>\n",
       "      <td>101.0</td>\n",
       "      <td>142.0</td>\n",
       "      <td>GACAAIA</td>\n",
       "      <td>4.8</td>\n",
       "    </tr>\n",
       "    <tr>\n",
       "      <th>1961</th>\n",
       "      <td>278.0</td>\n",
       "      <td>136.0</td>\n",
       "      <td>4.2</td>\n",
       "      <td>7.38</td>\n",
       "      <td>1.7</td>\n",
       "      <td>102.0</td>\n",
       "      <td>138.0</td>\n",
       "      <td>GACAAIA</td>\n",
       "      <td>4.7</td>\n",
       "    </tr>\n",
       "    <tr>\n",
       "      <th>1974</th>\n",
       "      <td>281.0</td>\n",
       "      <td>137.0</td>\n",
       "      <td>16.2</td>\n",
       "      <td>7.41</td>\n",
       "      <td>1.9</td>\n",
       "      <td>103.0</td>\n",
       "      <td>148.0</td>\n",
       "      <td>GACAAIA</td>\n",
       "      <td>6.0</td>\n",
       "    </tr>\n",
       "    <tr>\n",
       "      <th>2266</th>\n",
       "      <td>274.0</td>\n",
       "      <td>132.0</td>\n",
       "      <td>13.4</td>\n",
       "      <td>7.40</td>\n",
       "      <td>1.9</td>\n",
       "      <td>109.0</td>\n",
       "      <td>150.0</td>\n",
       "      <td>GACAAIA</td>\n",
       "      <td>9.0</td>\n",
       "    </tr>\n",
       "    <tr>\n",
       "      <th>2593</th>\n",
       "      <td>280.0</td>\n",
       "      <td>138.0</td>\n",
       "      <td>8.4</td>\n",
       "      <td>7.33</td>\n",
       "      <td>0.9</td>\n",
       "      <td>103.0</td>\n",
       "      <td>108.0</td>\n",
       "      <td>GACAANb</td>\n",
       "      <td>5.1</td>\n",
       "    </tr>\n",
       "  </tbody>\n",
       "</table>\n",
       "</div>"
      ],
      "text/plain": [
       "      Osmolarity (vein)  Na + (vein)  ctO2 (vein)  pH (vein)  Lac (vein)  \\\n",
       "1950              270.0        133.0          5.6       7.28         2.0   \n",
       "1961              278.0        136.0          4.2       7.38         1.7   \n",
       "1974              281.0        137.0         16.2       7.41         1.9   \n",
       "2266              274.0        132.0         13.4       7.40         1.9   \n",
       "2593              280.0        138.0          8.4       7.33         0.9   \n",
       "\n",
       "      Cl- (vein)  ctHb (vein) Patient_ID  Glu (vein)  \n",
       "1950       101.0        142.0    GACAAIA         4.8  \n",
       "1961       102.0        138.0    GACAAIA         4.7  \n",
       "1974       103.0        148.0    GACAAIA         6.0  \n",
       "2266       109.0        150.0    GACAAIA         9.0  \n",
       "2593       103.0        108.0    GACAANb         5.1  "
      ]
     },
     "execution_count": 143,
     "metadata": {},
     "output_type": "execute_result"
    }
   ],
   "source": [
    "data_r.head()"
   ]
  },
  {
   "cell_type": "code",
   "execution_count": 152,
   "metadata": {},
   "outputs": [
    {
     "data": {
      "text/plain": [
       "<matplotlib.axes._subplots.AxesSubplot at 0x7f8bb874e290>"
      ]
     },
     "execution_count": 152,
     "metadata": {},
     "output_type": "execute_result"
    },
    {
     "data": {
      "image/png": "[encoded data removed]",
      "text/plain": [
       "<Figure size 432x288 with 2 Axes>"
      ]
     },
     "metadata": {
      "needs_background": "light"
     },
     "output_type": "display_data"
    }
   ],
   "source": [
    "sns.heatmap(data_r.corr(), annot = True, vmin=-1, vmax=1, center= 0, cmap='twilight')"
   ]
  },
  {
   "cell_type": "code",
   "execution_count": 160,
   "metadata": {},
   "outputs": [
    {
     "data": {
      "text/plain": [
       "(15520, 9)"
      ]
     },
     "execution_count": 160,
     "metadata": {},
     "output_type": "execute_result"
    }
   ],
   "source": [
    "data_o.shape"
   ]
  },
  {
   "cell_type": "code",
   "execution_count": 161,
   "metadata": {},
   "outputs": [
    {
     "data": {
      "text/html": [
       "<div>\n",
       "<style scoped>\n",
       "    .dataframe tbody tr th:only-of-type {\n",
       "        vertical-align: middle;\n",
       "    }\n",
       "\n",
       "    .dataframe tbody tr th {\n",
       "        vertical-align: top;\n",
       "    }\n",
       "\n",
       "    .dataframe thead th {\n",
       "        text-align: right;\n",
       "    }\n",
       "</style>\n",
       "<table border=\"1\" class=\"dataframe\">\n",
       "  <thead>\n",
       "    <tr style=\"text-align: right;\">\n",
       "      <th></th>\n",
       "      <th>Osmolarity (vein)</th>\n",
       "      <th>Na + (vein)</th>\n",
       "      <th>ctO2 (vein)</th>\n",
       "      <th>pH (vein)</th>\n",
       "      <th>Lac (vein)</th>\n",
       "      <th>Cl- (vein)</th>\n",
       "      <th>ctHb (vein)</th>\n",
       "      <th>Glu (vein)</th>\n",
       "    </tr>\n",
       "  </thead>\n",
       "  <tbody>\n",
       "    <tr>\n",
       "      <th>1950</th>\n",
       "      <td>270.0</td>\n",
       "      <td>133.0</td>\n",
       "      <td>5.6</td>\n",
       "      <td>7.28</td>\n",
       "      <td>2.0</td>\n",
       "      <td>101.0</td>\n",
       "      <td>142.0</td>\n",
       "      <td>4.8</td>\n",
       "    </tr>\n",
       "    <tr>\n",
       "      <th>1961</th>\n",
       "      <td>278.0</td>\n",
       "      <td>136.0</td>\n",
       "      <td>4.2</td>\n",
       "      <td>7.38</td>\n",
       "      <td>1.7</td>\n",
       "      <td>102.0</td>\n",
       "      <td>138.0</td>\n",
       "      <td>4.7</td>\n",
       "    </tr>\n",
       "    <tr>\n",
       "      <th>1974</th>\n",
       "      <td>281.0</td>\n",
       "      <td>137.0</td>\n",
       "      <td>16.2</td>\n",
       "      <td>7.41</td>\n",
       "      <td>1.9</td>\n",
       "      <td>103.0</td>\n",
       "      <td>148.0</td>\n",
       "      <td>6.0</td>\n",
       "    </tr>\n",
       "    <tr>\n",
       "      <th>2266</th>\n",
       "      <td>274.0</td>\n",
       "      <td>132.0</td>\n",
       "      <td>13.4</td>\n",
       "      <td>7.40</td>\n",
       "      <td>1.9</td>\n",
       "      <td>109.0</td>\n",
       "      <td>150.0</td>\n",
       "      <td>9.0</td>\n",
       "    </tr>\n",
       "    <tr>\n",
       "      <th>2593</th>\n",
       "      <td>280.0</td>\n",
       "      <td>138.0</td>\n",
       "      <td>8.4</td>\n",
       "      <td>7.33</td>\n",
       "      <td>0.9</td>\n",
       "      <td>103.0</td>\n",
       "      <td>108.0</td>\n",
       "      <td>5.1</td>\n",
       "    </tr>\n",
       "    <tr>\n",
       "      <th>...</th>\n",
       "      <td>...</td>\n",
       "      <td>...</td>\n",
       "      <td>...</td>\n",
       "      <td>...</td>\n",
       "      <td>...</td>\n",
       "      <td>...</td>\n",
       "      <td>...</td>\n",
       "      <td>...</td>\n",
       "    </tr>\n",
       "    <tr>\n",
       "      <th>1547753</th>\n",
       "      <td>320.0</td>\n",
       "      <td>154.0</td>\n",
       "      <td>10.3</td>\n",
       "      <td>7.44</td>\n",
       "      <td>2.8</td>\n",
       "      <td>123.0</td>\n",
       "      <td>106.0</td>\n",
       "      <td>11.0</td>\n",
       "    </tr>\n",
       "    <tr>\n",
       "      <th>1547755</th>\n",
       "      <td>316.0</td>\n",
       "      <td>152.0</td>\n",
       "      <td>8.4</td>\n",
       "      <td>7.40</td>\n",
       "      <td>1.8</td>\n",
       "      <td>117.0</td>\n",
       "      <td>91.0</td>\n",
       "      <td>12.1</td>\n",
       "    </tr>\n",
       "    <tr>\n",
       "      <th>1549505</th>\n",
       "      <td>278.0</td>\n",
       "      <td>135.0</td>\n",
       "      <td>5.7</td>\n",
       "      <td>7.38</td>\n",
       "      <td>1.3</td>\n",
       "      <td>101.0</td>\n",
       "      <td>153.0</td>\n",
       "      <td>6.9</td>\n",
       "    </tr>\n",
       "    <tr>\n",
       "      <th>1549510</th>\n",
       "      <td>252.0</td>\n",
       "      <td>123.0</td>\n",
       "      <td>14.2</td>\n",
       "      <td>7.44</td>\n",
       "      <td>1.8</td>\n",
       "      <td>102.0</td>\n",
       "      <td>134.0</td>\n",
       "      <td>5.5</td>\n",
       "    </tr>\n",
       "    <tr>\n",
       "      <th>1549516</th>\n",
       "      <td>268.0</td>\n",
       "      <td>131.0</td>\n",
       "      <td>15.5</td>\n",
       "      <td>7.39</td>\n",
       "      <td>1.1</td>\n",
       "      <td>97.0</td>\n",
       "      <td>137.0</td>\n",
       "      <td>5.7</td>\n",
       "    </tr>\n",
       "  </tbody>\n",
       "</table>\n",
       "<p>15520 rows × 8 columns</p>\n",
       "</div>"
      ],
      "text/plain": [
       "         Osmolarity (vein)  Na + (vein)  ctO2 (vein)  pH (vein)  Lac (vein)  \\\n",
       "1950                 270.0        133.0          5.6       7.28         2.0   \n",
       "1961                 278.0        136.0          4.2       7.38         1.7   \n",
       "1974                 281.0        137.0         16.2       7.41         1.9   \n",
       "2266                 274.0        132.0         13.4       7.40         1.9   \n",
       "2593                 280.0        138.0          8.4       7.33         0.9   \n",
       "...                    ...          ...          ...        ...         ...   \n",
       "1547753              320.0        154.0         10.3       7.44         2.8   \n",
       "1547755              316.0        152.0          8.4       7.40         1.8   \n",
       "1549505              278.0        135.0          5.7       7.38         1.3   \n",
       "1549510              252.0        123.0         14.2       7.44         1.8   \n",
       "1549516              268.0        131.0         15.5       7.39         1.1   \n",
       "\n",
       "         Cl- (vein)  ctHb (vein)  Glu (vein)  \n",
       "1950          101.0        142.0         4.8  \n",
       "1961          102.0        138.0         4.7  \n",
       "1974          103.0        148.0         6.0  \n",
       "2266          109.0        150.0         9.0  \n",
       "2593          103.0        108.0         5.1  \n",
       "...             ...          ...         ...  \n",
       "1547753       123.0        106.0        11.0  \n",
       "1547755       117.0         91.0        12.1  \n",
       "1549505       101.0        153.0         6.9  \n",
       "1549510       102.0        134.0         5.5  \n",
       "1549516        97.0        137.0         5.7  \n",
       "\n",
       "[15520 rows x 8 columns]"
      ]
     },
     "execution_count": 161,
     "metadata": {},
     "output_type": "execute_result"
    }
   ],
   "source": [
    "data_o.drop(columns='Patient_ID').drop_duplicates()"
   ]
  },
  {
   "cell_type": "code",
   "execution_count": null,
   "metadata": {},
   "outputs": [],
   "source": []
  },
  {
   "cell_type": "code",
   "execution_count": 140,
   "metadata": {},
   "outputs": [
    {
     "data": {
      "text/plain": [
       "[<matplotlib.lines.Line2D at 0x7f8bec51dc90>]"
      ]
     },
     "execution_count": 140,
     "metadata": {},
     "output_type": "execute_result"
    },
    {
     "data": {
      "image/png": "[encoded data removed]",
      "text/plain": [
       "<Figure size 432x288 with 1 Axes>"
      ]
     },
     "metadata": {
      "needs_background": "light"
     },
     "output_type": "display_data"
    }
   ],
   "source": [
    "plt.plot(data_r['ctHb (vein)'])"
   ]
  },
  {
   "cell_type": "code",
   "execution_count": 113,
   "metadata": {},
   "outputs": [
    {
     "data": {
      "text/plain": [
       "(0.0, 196.0, 141.34912522115155)"
      ]
     },
     "execution_count": 113,
     "metadata": {},
     "output_type": "execute_result"
    }
   ],
   "source": [
    "min(data_r['Na + (vein)']), max(data_r['Na + (vein)']), np.mean(data_r['Na + (vein)'])"
   ]
  },
  {
   "cell_type": "code",
   "execution_count": 116,
   "metadata": {},
   "outputs": [
    {
     "data": {
      "text/plain": [
       "(array([1.400e+01, 0.000e+00, 0.000e+00, 0.000e+00, 0.000e+00, 0.000e+00,\n",
       "        0.000e+00, 0.000e+00, 0.000e+00, 0.000e+00, 0.000e+00, 0.000e+00,\n",
       "        0.000e+00, 0.000e+00, 0.000e+00, 0.000e+00, 0.000e+00, 1.000e+00,\n",
       "        1.800e+01, 3.030e+02, 3.468e+03, 6.317e+03, 4.178e+03, 6.990e+02,\n",
       "        1.960e+02, 5.100e+01, 1.100e+01, 0.000e+00, 3.000e+00, 2.000e+00]),\n",
       " array([  0.        ,   6.53333333,  13.06666667,  19.6       ,\n",
       "         26.13333333,  32.66666667,  39.2       ,  45.73333333,\n",
       "         52.26666667,  58.8       ,  65.33333333,  71.86666667,\n",
       "         78.4       ,  84.93333333,  91.46666667,  98.        ,\n",
       "        104.53333333, 111.06666667, 117.6       , 124.13333333,\n",
       "        130.66666667, 137.2       , 143.73333333, 150.26666667,\n",
       "        156.8       , 163.33333333, 169.86666667, 176.4       ,\n",
       "        182.93333333, 189.46666667, 196.        ]),\n",
       " <a list of 30 Patch objects>)"
      ]
     },
     "execution_count": 116,
     "metadata": {},
     "output_type": "execute_result"
    },
    {
     "data": {
      "image/png": "[encoded data removed]",
      "text/plain": [
       "<Figure size 432x288 with 1 Axes>"
      ]
     },
     "metadata": {
      "needs_background": "light"
     },
     "output_type": "display_data"
    }
   ],
   "source": [
    "plt.hist(data_r['Na + (vein)'], bins=30)"
   ]
  },
  {
   "cell_type": "code",
   "execution_count": 137,
   "metadata": {},
   "outputs": [
    {
     "name": "stdout",
     "output_type": "stream",
     "text": [
      "217.0\n",
      "214.0\n",
      "202.0\n",
      "227.0\n"
     ]
    }
   ],
   "source": [
    "for i in data_r['ctHb (vein)']:\n",
    "    if i > 200 and i < 1000:\n",
    "        print(i)"
   ]
  },
  {
   "cell_type": "code",
   "execution_count": 162,
   "metadata": {},
   "outputs": [
    {
     "name": "stdout",
     "output_type": "stream",
     "text": [
      "Osmolarity (vein) 97.0 465.0 292.7266688144329\n",
      "Na + (vein) 0.0 196.0 141.5034149484532\n",
      "ctO2 (vein) 0.0 24.8 8.804324542670548\n",
      "pH (vein) 6.89 7.66 7.373773498026391\n",
      "Lac (vein) 0.0 30.0 2.247616051888935\n",
      "Cl- (vein) 0.0 202.0 107.26753737113376\n",
      "ctHb (vein) 0.0 217.0 107.61611597938116\n",
      "Glu (vein) 0.0 50.0 10.00157351967524\n"
     ]
    }
   ],
   "source": [
    "for col in data_o.drop(columns='Patient_ID').columns:\n",
    "    print(col, min(data_o[col]), max(data_o[col]), np.mean(data_o[col]))"
   ]
  },
  {
   "cell_type": "code",
   "execution_count": 129,
   "metadata": {},
   "outputs": [],
   "source": []
  },
  {
   "cell_type": "code",
   "execution_count": null,
   "metadata": {},
   "outputs": [],
   "source": []
  }
 ],
 "metadata": {
  "kernelspec": {
   "display_name": "Python 3",
   "language": "python",
   "name": "python3"
  },
  "language_info": {
   "codemirror_mode": {
    "name": "ipython",
    "version": 3
   },
   "file_extension": ".py",
   "mimetype": "text/x-python",
   "name": "python",
   "nbconvert_exporter": "python",
   "pygments_lexer": "ipython3",
   "version": "3.7.6"
  }
 },
 "nbformat": 4,
 "nbformat_minor": 4
}
