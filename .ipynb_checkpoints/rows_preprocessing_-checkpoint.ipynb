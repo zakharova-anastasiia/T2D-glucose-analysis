{
 "cells": [
  {
   "cell_type": "markdown",
   "metadata": {},
   "source": [
    "#### from list to rows; Patient_id, Date - changed format, new col - Age; removed redundunt cols"
   ]
  },
  {
   "cell_type": "code",
   "execution_count": 1,
   "metadata": {},
   "outputs": [
    {
     "name": "stdout",
     "output_type": "stream",
     "text": [
      "WARNING: pip is being invoked by an old script wrapper. This will fail in a future version of pip.\n",
      "Please see https://github.com/pypa/pip/issues/5599 for advice on fixing the underlying issue.\n",
      "To avoid this problem you can invoke Python with '-m pip' instead of running pip directly.\n",
      "Requirement already satisfied: pandas in /opt/conda/lib/python3.7/site-packages (1.1.2)\n",
      "Requirement already satisfied: python-dateutil>=2.7.3 in /opt/conda/lib/python3.7/site-packages (from pandas) (2.8.1)\n",
      "Requirement already satisfied: numpy>=1.15.4 in /opt/conda/lib/python3.7/site-packages (from pandas) (1.19.2)\n",
      "Requirement already satisfied: pytz>=2017.2 in /opt/conda/lib/python3.7/site-packages (from pandas) (2020.1)\n",
      "Requirement already satisfied: six>=1.5 in /opt/conda/lib/python3.7/site-packages (from python-dateutil>=2.7.3->pandas) (1.14.0)\n"
     ]
    }
   ],
   "source": [
    "!pip install pandas"
   ]
  },
  {
   "cell_type": "code",
   "execution_count": 2,
   "metadata": {},
   "outputs": [],
   "source": [
    "import pandas as pd\n",
    "import numpy as np"
   ]
  },
  {
   "cell_type": "code",
   "execution_count": 3,
   "metadata": {},
   "outputs": [],
   "source": [
    "df = pd.read_json('Data_ICD_E11_T2DM_1.json')"
   ]
  },
  {
   "cell_type": "code",
   "execution_count": 6,
   "metadata": {},
   "outputs": [
    {
     "data": {
      "text/plain": [
       "(6072, 117)"
      ]
     },
     "execution_count": 6,
     "metadata": {},
     "output_type": "execute_result"
    }
   ],
   "source": [
    "df.shape\n"
   ]
  },
  {
   "cell_type": "code",
   "execution_count": 30,
   "metadata": {},
   "outputs": [
    {
     "data": {
      "text/plain": [
       "10"
      ]
     },
     "execution_count": 30,
     "metadata": {},
     "output_type": "execute_result"
    }
   ],
   "source": [
    "## testing code!!\n",
    "len([i for i in df[df.index == 'GACAUЧ-']['Glu (vein)'][0] if i != 0])"
   ]
  },
  {
   "cell_type": "code",
   "execution_count": 7,
   "metadata": {},
   "outputs": [],
   "source": [
    "df_n = pd.DataFrame({col: df[col].apply(pd.Series).stack().reset_index(drop=True) for col in df.columns})"
   ]
  },
  {
   "cell_type": "code",
   "execution_count": 8,
   "metadata": {},
   "outputs": [],
   "source": [
    "# Patient id col \n",
    "df_n['Patient_ID'] = pd.Series([i[:7] for i in df_n.EventCode])"
   ]
  },
  {
   "cell_type": "code",
   "execution_count": 9,
   "metadata": {},
   "outputs": [],
   "source": [
    "# new Date format, DOB to date-time format\n",
    "df_n['Date'] = pd.to_datetime(df_n.Date.astype('str'), format='%Y%m%d', errors='ignore')\n",
    "df_n['Birthday'] = pd.to_datetime(df_n.Birthday)"
   ]
  },
  {
   "cell_type": "code",
   "execution_count": 10,
   "metadata": {},
   "outputs": [],
   "source": [
    "# Age of patients at event time\n",
    "df_n['Age'] = pd.to_datetime(df_n.Date).dt.year - pd.to_datetime(df_n.Birthday).dt.year"
   ]
  },
  {
   "cell_type": "code",
   "execution_count": 7,
   "metadata": {},
   "outputs": [
    {
     "data": {
      "text/plain": [
       "(1550560, 117)"
      ]
     },
     "execution_count": 7,
     "metadata": {},
     "output_type": "execute_result"
    }
   ],
   "source": [
    "df_n.shape"
   ]
  },
  {
   "cell_type": "code",
   "execution_count": 10,
   "metadata": {},
   "outputs": [],
   "source": [
    "#export to csv\n",
    "df_n.to_csv('Dataset_by_rows_w_Age_DateOfEvent_PatientID.csv')"
   ]
  },
  {
   "cell_type": "code",
   "execution_count": 17,
   "metadata": {},
   "outputs": [],
   "source": [
    "# Vlad's feature selection\n",
    "the_most_interesting_element_count = 1000\n",
    "second_priority_element_count = 50\n",
    "features_with_counts = {}\n",
    "remove = []\n",
    "for col in df_n.columns:\n",
    "    features_with_counts[col] = np.count_nonzero(df_n[col] != 0)\n",
    "sorted_features = {k: v for k, v in sorted(features_with_counts.items(), key=lambda item: item[1], reverse=True)}\n",
    "for key in sorted_features:\n",
    "    if sorted_features[key] <= 95:\n",
    "        remove.append(key)"
   ]
  },
  {
   "cell_type": "code",
   "execution_count": 11,
   "metadata": {},
   "outputs": [
    {
     "ename": "NameError",
     "evalue": "name 'remove' is not defined",
     "output_type": "error",
     "traceback": [
      "\u001b[0;31m---------------------------------------------------------------------------\u001b[0m",
      "\u001b[0;31mNameError\u001b[0m                                 Traceback (most recent call last)",
      "\u001b[0;32m<ipython-input-11-511f25a4afbf>\u001b[0m in \u001b[0;36m<module>\u001b[0;34m\u001b[0m\n\u001b[1;32m      1\u001b[0m \u001b[0;31m# redundunt features deletion\u001b[0m\u001b[0;34m\u001b[0m\u001b[0;34m\u001b[0m\u001b[0;34m\u001b[0m\u001b[0m\n\u001b[0;32m----> 2\u001b[0;31m df_clear = df_n.drop(columns = remove + ['E0061epizod', 'B0050.1', \n\u001b[0m\u001b[1;32m      3\u001b[0m                                          'all_gipoglemic_drugs', 'beta_block', 'Birthday']).set_index('EventCode')\n",
      "\u001b[0;31mNameError\u001b[0m: name 'remove' is not defined"
     ]
    }
   ],
   "source": [
    "# redundunt features deletion\n",
    "df_clear = df_n.drop(columns = remove + ['E0061epizod', 'B0050.1', \n",
    "                                         'all_gipoglemic_drugs', 'beta_block', 'Birthday']).set_index('EventCode')"
   ]
  },
  {
   "cell_type": "code",
   "execution_count": null,
   "metadata": {},
   "outputs": [],
   "source": [
    "df_clear.head()"
   ]
  },
  {
   "cell_type": "code",
   "execution_count": 27,
   "metadata": {},
   "outputs": [],
   "source": [
    "#export to csv\n",
    "df_clear.to_csv('Preprocessed.csv')"
   ]
  },
  {
   "cell_type": "code",
   "execution_count": 12,
   "metadata": {},
   "outputs": [
    {
     "data": {
      "text/plain": [
       "Index(['EventCode', 'Date', 'Birthday', 'Sex', 'Smoke_status', 'HbA1c',\n",
       "       'Protein (urine) amount.', 'Microalbumin urine',\n",
       "       'Microalbin (day urine)', 'Metanephrines urine',\n",
       "       ...\n",
       "       'beta_block', 'IM1', 'CHD1', 'diabetic_retinopathy1',\n",
       "       'diabetic_angiopathy_neph', 'diabetic_nephropathy1', 'neuropathy1',\n",
       "       'stroke1', 'Patient_ID', 'Age'],\n",
       "      dtype='object', length=119)"
      ]
     },
     "execution_count": 12,
     "metadata": {},
     "output_type": "execute_result"
    }
   ],
   "source": [
    "for i in df_n.columns"
   ]
  },
  {
   "cell_type": "code",
   "execution_count": null,
   "metadata": {},
   "outputs": [],
   "source": []
  }
 ],
 "metadata": {
  "kernelspec": {
   "display_name": "Python 3",
   "language": "python",
   "name": "python3"
  },
  "language_info": {
   "codemirror_mode": {
    "name": "ipython",
    "version": 3
   },
   "file_extension": ".py",
   "mimetype": "text/x-python",
   "name": "python",
   "nbconvert_exporter": "python",
   "pygments_lexer": "ipython3",
   "version": "3.7.6"
  }
 },
 "nbformat": 4,
 "nbformat_minor": 4
}
