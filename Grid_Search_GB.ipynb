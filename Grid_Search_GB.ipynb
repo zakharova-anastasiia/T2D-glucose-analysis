{
 "cells": [
  {
   "cell_type": "code",
   "execution_count": 1,
   "metadata": {},
   "outputs": [
    {
     "name": "stdout",
     "output_type": "stream",
     "text": [
      "WARNING: pip is being invoked by an old script wrapper. This will fail in a future version of pip.\n",
      "Please see https://github.com/pypa/pip/issues/5599 for advice on fixing the underlying issue.\n",
      "To avoid this problem you can invoke Python with '-m pip' instead of running pip directly.\n",
      "Requirement already satisfied: pandas in /opt/conda/lib/python3.7/site-packages (1.1.2)\n",
      "Requirement already satisfied: pytz>=2017.2 in /opt/conda/lib/python3.7/site-packages (from pandas) (2020.1)\n",
      "Requirement already satisfied: python-dateutil>=2.7.3 in /opt/conda/lib/python3.7/site-packages (from pandas) (2.8.1)\n",
      "Requirement already satisfied: numpy>=1.15.4 in /opt/conda/lib/python3.7/site-packages (from pandas) (1.19.2)\n",
      "Requirement already satisfied: six>=1.5 in /opt/conda/lib/python3.7/site-packages (from python-dateutil>=2.7.3->pandas) (1.14.0)\n",
      "WARNING: pip is being invoked by an old script wrapper. This will fail in a future version of pip.\n",
      "Please see https://github.com/pypa/pip/issues/5599 for advice on fixing the underlying issue.\n",
      "To avoid this problem you can invoke Python with '-m pip' instead of running pip directly.\n",
      "Requirement already satisfied: matplotlib in /opt/conda/lib/python3.7/site-packages (3.3.1)\n",
      "Requirement already satisfied: numpy>=1.15 in /opt/conda/lib/python3.7/site-packages (from matplotlib) (1.19.2)\n",
      "Requirement already satisfied: cycler>=0.10 in /opt/conda/lib/python3.7/site-packages (from matplotlib) (0.10.0)\n",
      "Requirement already satisfied: certifi>=2020.06.20 in /opt/conda/lib/python3.7/site-packages (from matplotlib) (2020.6.20)\n",
      "Requirement already satisfied: pillow>=6.2.0 in /opt/conda/lib/python3.7/site-packages (from matplotlib) (7.2.0)\n",
      "Requirement already satisfied: pyparsing!=2.0.4,!=2.1.2,!=2.1.6,>=2.0.3 in /opt/conda/lib/python3.7/site-packages (from matplotlib) (2.4.7)\n",
      "Requirement already satisfied: python-dateutil>=2.1 in /opt/conda/lib/python3.7/site-packages (from matplotlib) (2.8.1)\n",
      "Requirement already satisfied: kiwisolver>=1.0.1 in /opt/conda/lib/python3.7/site-packages (from matplotlib) (1.2.0)\n",
      "Requirement already satisfied: six in /opt/conda/lib/python3.7/site-packages (from cycler>=0.10->matplotlib) (1.14.0)\n",
      "WARNING: pip is being invoked by an old script wrapper. This will fail in a future version of pip.\n",
      "Please see https://github.com/pypa/pip/issues/5599 for advice on fixing the underlying issue.\n",
      "To avoid this problem you can invoke Python with '-m pip' instead of running pip directly.\n",
      "Requirement already satisfied: sklearn in /opt/conda/lib/python3.7/site-packages (0.0)\n",
      "Requirement already satisfied: scikit-learn in /opt/conda/lib/python3.7/site-packages (from sklearn) (0.23.2)\n",
      "Requirement already satisfied: joblib>=0.11 in /opt/conda/lib/python3.7/site-packages (from scikit-learn->sklearn) (0.16.0)\n",
      "Requirement already satisfied: numpy>=1.13.3 in /opt/conda/lib/python3.7/site-packages (from scikit-learn->sklearn) (1.19.2)\n",
      "Requirement already satisfied: threadpoolctl>=2.0.0 in /opt/conda/lib/python3.7/site-packages (from scikit-learn->sklearn) (2.1.0)\n",
      "Requirement already satisfied: scipy>=0.19.1 in /opt/conda/lib/python3.7/site-packages (from scikit-learn->sklearn) (1.5.2)\n",
      "WARNING: pip is being invoked by an old script wrapper. This will fail in a future version of pip.\n",
      "Please see https://github.com/pypa/pip/issues/5599 for advice on fixing the underlying issue.\n",
      "To avoid this problem you can invoke Python with '-m pip' instead of running pip directly.\n",
      "Requirement already satisfied: seaborn in /opt/conda/lib/python3.7/site-packages (0.11.0)\n",
      "Requirement already satisfied: numpy>=1.15 in /opt/conda/lib/python3.7/site-packages (from seaborn) (1.19.2)\n",
      "Requirement already satisfied: matplotlib>=2.2 in /opt/conda/lib/python3.7/site-packages (from seaborn) (3.3.1)\n",
      "Requirement already satisfied: pandas>=0.23 in /opt/conda/lib/python3.7/site-packages (from seaborn) (1.1.2)\n",
      "Requirement already satisfied: scipy>=1.0 in /opt/conda/lib/python3.7/site-packages (from seaborn) (1.5.2)\n",
      "Requirement already satisfied: python-dateutil>=2.1 in /opt/conda/lib/python3.7/site-packages (from matplotlib>=2.2->seaborn) (2.8.1)\n",
      "Requirement already satisfied: pyparsing!=2.0.4,!=2.1.2,!=2.1.6,>=2.0.3 in /opt/conda/lib/python3.7/site-packages (from matplotlib>=2.2->seaborn) (2.4.7)\n",
      "Requirement already satisfied: cycler>=0.10 in /opt/conda/lib/python3.7/site-packages (from matplotlib>=2.2->seaborn) (0.10.0)\n",
      "Requirement already satisfied: pillow>=6.2.0 in /opt/conda/lib/python3.7/site-packages (from matplotlib>=2.2->seaborn) (7.2.0)\n",
      "Requirement already satisfied: certifi>=2020.06.20 in /opt/conda/lib/python3.7/site-packages (from matplotlib>=2.2->seaborn) (2020.6.20)\n",
      "Requirement already satisfied: kiwisolver>=1.0.1 in /opt/conda/lib/python3.7/site-packages (from matplotlib>=2.2->seaborn) (1.2.0)\n",
      "Requirement already satisfied: pytz>=2017.2 in /opt/conda/lib/python3.7/site-packages (from pandas>=0.23->seaborn) (2020.1)\n",
      "Requirement already satisfied: six>=1.5 in /opt/conda/lib/python3.7/site-packages (from python-dateutil>=2.1->matplotlib>=2.2->seaborn) (1.14.0)\n"
     ]
    }
   ],
   "source": [
    "! pip install pandas\n",
    "! pip install matplotlib\n",
    "! pip install sklearn\n",
    "! pip install seaborn"
   ]
  },
  {
   "cell_type": "code",
   "execution_count": 2,
   "metadata": {},
   "outputs": [],
   "source": [
    "import pandas as pd\n",
    "import sklearn.ensemble as skle\n",
    "import sklearn.svm as svm\n",
    "import numpy as np\n",
    "import seaborn as sns\n",
    "import matplotlib.pyplot as plt\n",
    "from sklearn.model_selection import train_test_split\n",
    "from sklearn import preprocessing\n",
    "import warnings\n",
    "warnings.filterwarnings('ignore')\n",
    "from sklearn.model_selection import GridSearchCV, KFold\n",
    "import sklearn.metrics as sm"
   ]
  },
  {
   "cell_type": "code",
   "execution_count": 3,
   "metadata": {},
   "outputs": [],
   "source": [
    "df = pd.read_csv('V5_final_dataset.csv', index_col=0).drop_duplicates()"
   ]
  },
  {
   "cell_type": "code",
   "execution_count": 4,
   "metadata": {},
   "outputs": [],
   "source": [
    "X = df.drop(columns=['Glu (vein)'])\n",
    "y = df['Glu (vein)']"
   ]
  },
  {
   "cell_type": "code",
   "execution_count": 5,
   "metadata": {},
   "outputs": [],
   "source": [
    "X_train, X_test, y_train, y_test = train_test_split(X, y, test_size=0.1, random_state=42)\n",
    "X_train_s = preprocessing.normalize(X_train)\n",
    "X_test_s = preprocessing.normalize(X_test)"
   ]
  },
  {
   "cell_type": "code",
   "execution_count": 7,
   "metadata": {},
   "outputs": [
    {
     "data": {
      "text/plain": [
       "dict_keys(['alpha', 'ccp_alpha', 'criterion', 'init', 'learning_rate', 'loss', 'max_depth', 'max_features', 'max_leaf_nodes', 'min_impurity_decrease', 'min_impurity_split', 'min_samples_leaf', 'min_samples_split', 'min_weight_fraction_leaf', 'n_estimators', 'n_iter_no_change', 'presort', 'random_state', 'subsample', 'tol', 'validation_fraction', 'verbose', 'warm_start'])"
      ]
     },
     "execution_count": 7,
     "metadata": {},
     "output_type": "execute_result"
    }
   ],
   "source": [
    "skle.GradientBoostingRegressor.get_params(skle.GradientBoostingRegressor).keys()"
   ]
  },
  {
   "cell_type": "code",
   "execution_count": 6,
   "metadata": {},
   "outputs": [],
   "source": [
    "cv = KFold(n_splits=10, shuffle=True, random_state=42)"
   ]
  },
  {
   "cell_type": "code",
   "execution_count": 10,
   "metadata": {},
   "outputs": [],
   "source": [
    "params_grid_GB = {'loss': ['ls', 'lad', 'huber'], \n",
    "                  'min_samples_leaf': range(5, 20, 5),\n",
    "                 }\n",
    "grad_boosting = skle.GradientBoostingRegressor(random_state=42, n_estimators=1000)\n",
    "GS_GB = GridSearchCV(grad_boosting, params_grid_GB, cv=cv, scoring='neg_mean_squared_error')\n",
    "GS_GB.fit(X_train, y_train)\n",
    "grad_boosting_GS_y = GS_GB.predict(X_test)"
   ]
  },
  {
   "cell_type": "code",
   "execution_count": 8,
   "metadata": {},
   "outputs": [
    {
     "data": {
      "text/plain": [
       "(0.8817433195415945, 0.9421154547833219)"
      ]
     },
     "execution_count": 8,
     "metadata": {},
     "output_type": "execute_result"
    }
   ],
   "source": [
    "sm.mean_squared_error(y_test, grad_boosting_GS_y), sm.r2_score(y_test, grad_boosting_GS_y)  "
   ]
  },
  {
   "cell_type": "code",
   "execution_count": 13,
   "metadata": {},
   "outputs": [
    {
     "data": {
      "text/plain": [
       "{'loss': 'ls', 'min_samples_leaf': 5}"
      ]
     },
     "execution_count": 13,
     "metadata": {},
     "output_type": "execute_result"
    }
   ],
   "source": [
    "GS_GB.best_params_"
   ]
  },
  {
   "cell_type": "code",
   "execution_count": 7,
   "metadata": {},
   "outputs": [],
   "source": [
    "grad_boosting = skle.GradientBoostingRegressor(random_state=42, n_estimators=1000, loss='ls', min_samples_leaf=5)\n",
    "grad_boosting.fit(X_train, y_train)\n",
    "grad_boosting_GS_y = grad_boosting.predict(X_test)"
   ]
  },
  {
   "cell_type": "code",
   "execution_count": 9,
   "metadata": {},
   "outputs": [
    {
     "data": {
      "text/plain": [
       "(0.8817433195415945, 0.9421154547833219)"
      ]
     },
     "execution_count": 9,
     "metadata": {},
     "output_type": "execute_result"
    }
   ],
   "source": [
    "sm.mean_squared_error(y_test, grad_boosting_GS_y), sm.r2_score(y_test, grad_boosting_GS_y)  "
   ]
  },
  {
   "cell_type": "code",
   "execution_count": 16,
   "metadata": {},
   "outputs": [
    {
     "data": {
      "text/plain": [
       "[<matplotlib.lines.Line2D at 0x7fe87ec37850>]"
      ]
     },
     "execution_count": 16,
     "metadata": {},
     "output_type": "execute_result"
    },
    {
     "data": {
      "image/png": "[encoded data removed]",
      "text/plain": [
       "<Figure size 1080x360 with 1 Axes>"
      ]
     },
     "metadata": {
      "needs_background": "light"
     },
     "output_type": "display_data"
    }
   ],
   "source": [
    "plt.figure(figsize=(15,5)) \n",
    "plt.plot(y_test.tolist(), label='Y test')\n",
    "plt.plot(grad_boosting_GS_y, label='GB')"
   ]
  },
  {
   "cell_type": "code",
   "execution_count": 17,
   "metadata": {},
   "outputs": [
    {
     "name": "stdout",
     "output_type": "stream",
     "text": [
      "Sex 0.00034625700549572675\n",
      "Smoke_status 0.00029831580066722795\n",
      "SBE (vein) 3.015486843255504e-05\n",
      "HCO3- (P, st) (vein) 0.00017858430936298458\n",
      "FCOHb (vein) 0.00012021627822532275\n",
      "FHHb (vein) 0.0001694410058945042\n",
      "FMetHb (vein) 5.944934014191377e-05\n",
      "FHbF (vein) 2.1211777764905395e-05\n",
      "F02Hb (vein) 0.00010458886888650847\n",
      "ctBil (vein) 0.0014248110383858527\n",
      "pH (vein) 0.001656619409561856\n",
      "pO2 (vein) 0.0026680266085935536\n",
      "pCO2 (vein) 0.0023470307182366203\n",
      "ABE (vein) 0.0027800515250879657\n",
      "HCO3- (P) (vein) 0.00112285436549142\n",
      "sO2 (vein) 0.001483158812125294\n",
      "ctHb (vein) 0.008553017645936125\n",
      "Hct (vein) 0.001212841086681209\n",
      "K + (vein) 0.002112579458240182\n",
      "Na + (vein) 0.40837095302949317\n",
      "Ca2 + ( vein) 0.0022199674611230727\n",
      "Cl- (vein) 0.006759973153600599\n",
      "Lac (vein) 0.06773332730581882\n",
      "Osmolarity (vein) 0.46644133781672875\n",
      "ctO2 (vein) 0.018077507790488414\n",
      "p50 (vein) 0.0017810946861301863\n",
      "Age 0.0019266288334051683\n"
     ]
    }
   ],
   "source": [
    "for i in range(len(X_train.columns)):\n",
    "    print(X_train.columns[i], GS_GB.best_estimator_.feature_importances_[i])"
   ]
  },
  {
   "cell_type": "code",
   "execution_count": 10,
   "metadata": {},
   "outputs": [
    {
     "data": {
      "text/plain": [
       "[(0.46644133781672875, 'Osmolarity (vein)'),\n",
       " (0.40837095302949317, 'Na + (vein)'),\n",
       " (0.06773332730581882, 'Lac (vein)'),\n",
       " (0.018077507790488414, 'ctO2 (vein)'),\n",
       " (0.008553017645936125, 'ctHb (vein)'),\n",
       " (0.006759973153600599, 'Cl- (vein)'),\n",
       " (0.0027800515250879657, 'ABE (vein)'),\n",
       " (0.0026680266085935536, 'pO2 (vein)'),\n",
       " (0.0023470307182366203, 'pCO2 (vein)'),\n",
       " (0.0022199674611230727, 'Ca2 + ( vein)'),\n",
       " (0.002112579458240182, 'K + (vein)'),\n",
       " (0.0019266288334051683, 'Age'),\n",
       " (0.0017810946861301863, 'p50 (vein)'),\n",
       " (0.001656619409561856, 'pH (vein)'),\n",
       " (0.001483158812125294, 'sO2 (vein)'),\n",
       " (0.0014248110383858527, 'ctBil (vein)'),\n",
       " (0.001212841086681209, 'Hct (vein)'),\n",
       " (0.00112285436549142, 'HCO3- (P) (vein)'),\n",
       " (0.00034625700549572675, 'Sex'),\n",
       " (0.00029831580066722795, 'Smoke_status'),\n",
       " (0.00017858430936298458, 'HCO3- (P, st) (vein)'),\n",
       " (0.0001694410058945042, 'FHHb (vein)'),\n",
       " (0.00012021627822532275, 'FCOHb (vein)'),\n",
       " (0.00010458886888650847, 'F02Hb (vein)'),\n",
       " (5.944934014191377e-05, 'FMetHb (vein)'),\n",
       " (3.015486843255504e-05, 'SBE (vein)'),\n",
       " (2.1211777764905395e-05, 'FHbF (vein)')]"
      ]
     },
     "execution_count": 10,
     "metadata": {},
     "output_type": "execute_result"
    }
   ],
   "source": [
    "feat = {}\n",
    "for i in range(len(X_train.columns)):\n",
    "    feat[X_train.columns[i]] = grad_boosting.feature_importances_[i]\n",
    "    \n",
    "sorted( ((k,v) for v,k in feat.items()), reverse=True) "
   ]
  },
  {
   "cell_type": "code",
   "execution_count": null,
   "metadata": {},
   "outputs": [],
   "source": []
  },
  {
   "cell_type": "code",
   "execution_count": 11,
   "metadata": {},
   "outputs": [],
   "source": [
    "y_osm = df['Osmolarity (vein)']\n",
    "X_osm = df.drop(columns=['Osmolarity (vein)'])"
   ]
  },
  {
   "cell_type": "code",
   "execution_count": 12,
   "metadata": {},
   "outputs": [],
   "source": [
    "X_train_o, X_test_o, y_train_o, y_test_o = train_test_split(X_osm, y_osm, test_size=0.1, random_state=42)"
   ]
  },
  {
   "cell_type": "code",
   "execution_count": 20,
   "metadata": {},
   "outputs": [],
   "source": [
    "GB_o = skle.GradientBoostingRegressor(random_state=42, n_estimators=1200, loss='ls', min_samples_leaf=10)\n",
    "GB_o.fit(X_train_o, y_train_o)\n",
    "GB_yo = GB_o.predict(X_test_o)"
   ]
  },
  {
   "cell_type": "code",
   "execution_count": 21,
   "metadata": {},
   "outputs": [
    {
     "data": {
      "text/plain": [
       "(1.6083279499994207e+30, 0.7468152083555472)"
      ]
     },
     "execution_count": 21,
     "metadata": {},
     "output_type": "execute_result"
    }
   ],
   "source": [
    "sm.mean_squared_error(y_test_o, GB_yo), sm.r2_score(y_test_o, GB_yo)"
   ]
  },
  {
   "cell_type": "code",
   "execution_count": 22,
   "metadata": {},
   "outputs": [
    {
     "data": {
      "text/plain": [
       "[(0.2865630940432483, 'Na + (vein)'),\n",
       " (0.19825224562955432, 'Cl- (vein)'),\n",
       " (0.13876104380873217, 'pO2 (vein)'),\n",
       " (0.1332326499985842, 'HCO3- (P) (vein)'),\n",
       " (0.11371861818975935, 'ctHb (vein)'),\n",
       " (0.08433334475242546, 'pCO2 (vein)'),\n",
       " (0.019470225041402847, 'sO2 (vein)'),\n",
       " (0.012034205705636798, 'pH (vein)'),\n",
       " (0.003053791143320359, 'ctO2 (vein)'),\n",
       " (0.002148046579992277, 'p50 (vein)'),\n",
       " (0.0020272486711635077, 'Ca2 + ( vein)'),\n",
       " (0.0015253691256807483, 'K + (vein)'),\n",
       " (0.0014415204379578822, 'Age'),\n",
       " (0.0013550987508770753, 'ABE (vein)'),\n",
       " (0.0008186437791793488, 'Lac (vein)'),\n",
       " (0.000767236542379355, 'Glu (vein)'),\n",
       " (0.0004940906537551587, 'Hct (vein)'),\n",
       " (2.7655384648822147e-06, 'Sex'),\n",
       " (7.616078859634828e-07, 'Smoke_status'),\n",
       " (0.0, 'ctBil (vein)'),\n",
       " (0.0, 'SBE (vein)'),\n",
       " (0.0, 'HCO3- (P, st) (vein)'),\n",
       " (0.0, 'FMetHb (vein)'),\n",
       " (0.0, 'FHbF (vein)'),\n",
       " (0.0, 'FHHb (vein)'),\n",
       " (0.0, 'FCOHb (vein)'),\n",
       " (0.0, 'F02Hb (vein)')]"
      ]
     },
     "execution_count": 22,
     "metadata": {},
     "output_type": "execute_result"
    }
   ],
   "source": [
    "feat_o = {}\n",
    "for i in range(len(X_train_o.columns)):\n",
    "    feat_o[X_train_o.columns[i]] = GB_o.feature_importances_[i]\n",
    "    \n",
    "sorted( ((k,v) for v,k in feat_o.items()), reverse=True) "
   ]
  },
  {
   "cell_type": "code",
   "execution_count": null,
   "metadata": {},
   "outputs": [],
   "source": []
  },
  {
   "cell_type": "code",
   "execution_count": null,
   "metadata": {},
   "outputs": [],
   "source": []
  },
  {
   "cell_type": "code",
   "execution_count": null,
   "metadata": {},
   "outputs": [],
   "source": [
    "params_grid_B = {'n_estimators': range(50, 700, 50),  \n",
    "                 'max_features': np.arange(0.1, 1, 0.1),\n",
    "                 'oob_score': [True, False], \n",
    "                }\n",
    "bagging = skle.BaggingRegressor(random_state=42)\n",
    "GS_B = GridSearchCV(bagging, params_grid_B, cv=cv, scoring='neg_mean_squared_error')\n",
    "GS_B.fit(X_train, y_train)\n",
    "bagging_y = grad_bagging.predict(X_test)\n",
    "bagging_GS_y = GS_B.predict(X_test)"
   ]
  },
  {
   "cell_type": "code",
   "execution_count": null,
   "metadata": {},
   "outputs": [],
   "source": [
    "sm.mean_squared_error(y_test, bagging_y), sm.mean_squared_error(y_test, bagging_GS_y) "
   ]
  },
  {
   "cell_type": "code",
   "execution_count": null,
   "metadata": {},
   "outputs": [],
   "source": [
    "params_grid_RF = {'n_estimators': range(100, 1000, 50),  \n",
    "                 'max_features': np.arange(0.1, 1, 0.1).tolist() + ['auto', 'sqrt', 'log2'],\n",
    "                 'criterion': ['mae', 'mse'], \n",
    "                  'min_samples_leaf': range(5, 100, 20), \n",
    "                }\n",
    "rand_forest = skle.RandomForestRegressor(random_state=42)\n",
    "GS_RF = GridSearchCV(rand_forest, params_grid_RF, cv=cv, scoring='neg_mean_squared_error')\n",
    "GS_RF.fit(X_train, y_train)\n",
    "rand_forest_y = rand_forest.predict(X_test)\n",
    "rand_forest_GS_y = GS_RF.predict(X_test)"
   ]
  },
  {
   "cell_type": "code",
   "execution_count": null,
   "metadata": {},
   "outputs": [],
   "source": [
    "sm.mean_squared_error(y_test, rand_forest_y), sm.mean_squared_error(y_test, rand_forest_GS_y) "
   ]
  },
  {
   "cell_type": "code",
   "execution_count": null,
   "metadata": {},
   "outputs": [],
   "source": []
  },
  {
   "cell_type": "code",
   "execution_count": 13,
   "metadata": {},
   "outputs": [
    {
     "data": {
      "text/plain": [
       "[0.1,\n",
       " 0.2,\n",
       " 0.30000000000000004,\n",
       " 0.4,\n",
       " 0.5,\n",
       " 0.6,\n",
       " 0.7000000000000001,\n",
       " 0.8,\n",
       " 0.9,\n",
       " 'auto',\n",
       " 'sqrt',\n",
       " 'log']"
      ]
     },
     "execution_count": 13,
     "metadata": {},
     "output_type": "execute_result"
    }
   ],
   "source": []
  },
  {
   "cell_type": "code",
   "execution_count": null,
   "metadata": {},
   "outputs": [],
   "source": []
  },
  {
   "cell_type": "code",
   "execution_count": null,
   "metadata": {},
   "outputs": [],
   "source": []
  }
 ],
 "metadata": {
  "kernelspec": {
   "display_name": "Python 3",
   "language": "python",
   "name": "python3"
  },
  "language_info": {
   "codemirror_mode": {
    "name": "ipython",
    "version": 3
   },
   "file_extension": ".py",
   "mimetype": "text/x-python",
   "name": "python",
   "nbconvert_exporter": "python",
   "pygments_lexer": "ipython3",
   "version": "3.7.4"
  }
 },
 "nbformat": 4,
 "nbformat_minor": 4
}
